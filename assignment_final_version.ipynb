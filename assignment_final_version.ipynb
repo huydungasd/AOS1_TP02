{
 "cells": [
  {
   "cell_type": "markdown",
   "metadata": {},
   "source": [
    "# TP02 Regularization\n",
    "\n",
    "In this TP, we aim to proove the way the Elastic Net method selects the variable is better than the Lasso's when we have in the dataset highly correlated features on the same scale. To do this, our startegy is :\n",
    "- Define desired dataset described above.\n",
    "- Define risk computing function.\n",
    "- Find the hyperparameters of 2 regressions by the Cross-Validation method in order to calculate the comparable risks.\n",
    "- Plot the stability of 2 methods by repeating the variable-selection process and conclude the stability of selecting variables from 2 regression methods."
   ]
  },
  {
   "cell_type": "code",
   "execution_count": 1,
   "metadata": {},
   "outputs": [],
   "source": [
    "from scipy import linalg\n",
    "from sklearn.feature_selection import SelectFromModel\n",
    "from sklearn.linear_model import Lasso, LassoCV, ElasticNet, ElasticNetCV\n",
    "import numpy as np\n",
    "import matplotlib.pyplot as plt\n",
    "\n",
    "\n",
    "\"\"\"\n",
    "Define the function generating the highly correlated features on the same scale. The idea is first to create the 2 different\n",
    "features Z1 and Z2 by genereating the uniform distribution function ; then to create the 3 first columns of X based on Z1 and\n",
    "the last 3 based on Z2. At the end, we calculated the model's output y.\n",
    "\"\"\"\n",
    "class Event_personalise:\n",
    "    def __init__(self):\n",
    "        self.n_features = 6\n",
    "\n",
    "    def sample(self, n_samples=1000):\n",
    "        self.Z1 = np.random.uniform(0, 30, n_samples)\n",
    "        self.Z2 = np.random.uniform(0, 30, n_samples)\n",
    "        X = np.zeros((n_samples, 6))\n",
    "        y = np.zeros((n_samples, 1))\n",
    "        \n",
    "        X[:, 0] = self.Z1 + np.random.normal(0, 0.5, n_samples)\n",
    "        X[:, 1] = -self.Z1 + np.random.normal(0, 0.5, n_samples)\n",
    "        X[:, 2] = self.Z1 + np.random.normal(0, 0.5, n_samples)\n",
    "        \n",
    "        X[:, 3] = self.Z2 + np.random.normal(0, 0.5, n_samples)\n",
    "        X[:, 4] = -self.Z2 + np.random.normal(0, 0.5, n_samples)\n",
    "        X[:, 5] = self.Z2 + np.random.normal(0, 0.5, n_samples)\n",
    "        \n",
    "        y = self.Z1 + 0.1*self.Z2 + np.random.normal(0, 1, n_samples)\n",
    "\n",
    "        return X, y"
   ]
  },
  {
   "cell_type": "code",
   "execution_count": 2,
   "metadata": {},
   "outputs": [],
   "source": [
    "\"\"\"\n",
    "The risk computing function calculates the risk value corresponding to the specific model.\n",
    "\"\"\"\n",
    "\n",
    "def compute_risk(model, evt, ntimes, n_samples, Z10, Z20):\n",
    "    pred_model = []\n",
    "    y0 = Z10 + 0.1*Z20                                 # \"true\" ouput\n",
    "    X0 = np.zeros((1, 6))                              # input\n",
    "    X0[0, 0] = Z10 + np.random.normal(0, 0.5, 1)\n",
    "    X0[0, 1] = -Z10 + np.random.normal(0, 0.5, 1)\n",
    "    X0[0, 2] = Z10 + np.random.normal(0, 0.5, 1)\n",
    "\n",
    "    X0[0, 3] = Z20 + np.random.normal(0, 0.5, 1)\n",
    "    X0[0, 4] = -Z20 + np.random.normal(0, 0.5, 1)\n",
    "    X0[0, 5] = Z20 + np.random.normal(0, 0.5, 1)\n",
    "    for i in range(ntimes):                            # run n-times to predict n-times ouput values\n",
    "        X, y = evt.sample(n_samples=n_samples)\n",
    "        model.fit(X, y)\n",
    "        pred = model.predict(X0)\n",
    "        pred_model.append(pred)\n",
    "        \n",
    "    risk = np.mean((pred_model - y0)**2)               # calculate the risk value\n",
    "    return risk"
   ]
  },
  {
   "cell_type": "code",
   "execution_count": 3,
   "metadata": {},
   "outputs": [
    {
     "name": "stdout",
     "output_type": "stream",
     "text": [
      "Best alpha for lasso is 0.071942\n",
      "Best alpha, l1 for elas is 0.17738650054369254, 0.5\n"
     ]
    }
   ],
   "source": [
    "\"\"\"\n",
    "Find the hyperparameters of 2 regression methods by using the cross-validation technique.\n",
    "\"\"\"\n",
    "\n",
    "evt = Event_personalise()\n",
    "X, y = evt.sample(n_samples=1000)\n",
    "lasso_alpha = LassoCV(cv=5, random_state=0).fit(X, y).alpha_\n",
    "print('Best alpha for lasso is %f' % lasso_alpha)\n",
    "elas_alpha = ElasticNetCV(cv=20, random_state=0).fit(X, y).alpha_\n",
    "elas_l1ratio = ElasticNetCV(cv=20, random_state=0).fit(X, y).l1_ratio_\n",
    "print('Best alpha, l1 for elas is {}, {}'.format(elas_alpha, elas_l1ratio))"
   ]
  },
  {
   "cell_type": "code",
   "execution_count": 4,
   "metadata": {},
   "outputs": [
    {
     "name": "stdout",
     "output_type": "stream",
     "text": [
      "Lasso regression:  Risk: 0.046911\n",
      "Elastic net regression:  Risk: 0.096942\n"
     ]
    }
   ],
   "source": [
    "\"\"\"\n",
    "Comapre the 2 risk values from the found hyperparameters and the risk computing function.\n",
    "\"\"\"\n",
    "\n",
    "ntimes = 100\n",
    "Z10 = np.random.uniform(0, 30, 1)\n",
    "Z20 = np.random.uniform(0, 30, 1)\n",
    "n_samples = 1000\n",
    "risk_lasso = compute_risk(Lasso(alpha=lasso_alpha), evt, ntimes, n_samples, Z10, Z20)\n",
    "risk_elas = compute_risk(ElasticNet(alpha=elas_alpha, l1_ratio=elas_l1ratio), evt, ntimes, n_samples, Z10, Z20)\n",
    "output = \"Risk: %f\"\n",
    "print(\"Lasso regression: \", output % risk_lasso)\n",
    "print(\"Elastic net regression: \", output % risk_elas)"
   ]
  },
  {
   "cell_type": "code",
   "execution_count": 5,
   "metadata": {},
   "outputs": [],
   "source": [
    "\"\"\"\n",
    "Display the freauency of features selected and evaluate the stability of 2 methods.\n",
    "\"\"\"\n",
    "\n",
    "N = 100\n",
    "lassoRes = []\n",
    "ElasticRes = []\n",
    "for i in range (0,N):\n",
    "    evt = Event_personalise()\n",
    "    X, y = evt.sample(n_samples=1000)\n",
    "\n",
    "    columns = np.arange(X.shape[1])\n",
    "    sel_1 = SelectFromModel(Lasso(alpha=lasso_alpha))\n",
    "    sel_1.fit(X, y)\n",
    "    lassoVar = list(columns[(sel_1.get_support())])\n",
    "    lassoRes.append(lassoVar)\n",
    "\n",
    "    sel_2 = SelectFromModel(ElasticNet(alpha=elas_alpha, l1_ratio=elas_l1ratio))\n",
    "    sel_2.fit(X, y)\n",
    "    ElasticVar = list(columns[(sel_2.get_support())])\n",
    "    ElasticRes.append(ElasticVar)\n",
    "    \n",
    "feature = range(6)\n",
    "freq_Elas = np.zeros(6)\n",
    "freq_Lass = np.zeros(6)\n",
    "for i in feature:\n",
    "    for j in range(len(ElasticRes)):\n",
    "        if i in ElasticRes[j]:\n",
    "            freq_Elas[i] += 1\n",
    "    for j in range(len(lassoRes)):\n",
    "        if i in lassoRes[j]:\n",
    "            freq_Lass[i] += 1"
   ]
  },
  {
   "cell_type": "code",
   "execution_count": 6,
   "metadata": {},
   "outputs": [
    {
     "data": {
      "text/plain": [
       "[<matplotlib.lines.Line2D at 0x23fcdcdd898>]"
      ]
     },
     "execution_count": 6,
     "metadata": {},
     "output_type": "execute_result"
    },
    {
     "data": {
      "image/png": "[encoded data removed]",
      "text/plain": [
       "<Figure size 432x288 with 1 Axes>"
      ]
     },
     "metadata": {
      "needs_background": "light"
     },
     "output_type": "display_data"
    }
   ],
   "source": [
    "plt.plot(feature, freq_Elas, '.')"
   ]
  },
  {
   "cell_type": "code",
   "execution_count": 7,
   "metadata": {
    "scrolled": true
   },
   "outputs": [
    {
     "data": {
      "text/plain": [
       "[<matplotlib.lines.Line2D at 0x23fcdd79160>]"
      ]
     },
     "execution_count": 7,
     "metadata": {},
     "output_type": "execute_result"
    },
    {
     "data": {
      "image/png": "[encoded data removed]",
      "text/plain": [
       "<Figure size 432x288 with 1 Axes>"
      ]
     },
     "metadata": {
      "needs_background": "light"
     },
     "output_type": "display_data"
    }
   ],
   "source": [
    "plt.plot(feature, freq_Lass, '.')"
   ]
  },
  {
   "cell_type": "markdown",
   "metadata": {},
   "source": [
    "From the 2 above figures, we find that the selected features of Elastic Net method are always X0, X1 and X2 while the variable selection of Lasso method is not always the same in every case (X3, X4 and X5 are not clearly selected, meaning their frequencies between 65 and 70)."
   ]
  }
 ],
 "metadata": {
  "kernelspec": {
   "display_name": "Python 3",
   "language": "python",
   "name": "python3"
  },
  "language_info": {
   "codemirror_mode": {
    "name": "ipython",
    "version": 3
   },
   "file_extension": ".py",
   "mimetype": "text/x-python",
   "name": "python",
   "nbconvert_exporter": "python",
   "pygments_lexer": "ipython3",
   "version": "3.7.3"
  }
 },
 "nbformat": 4,
 "nbformat_minor": 2
}
